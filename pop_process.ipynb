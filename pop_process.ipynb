{
 "cells": [
  {
   "cell_type": "markdown",
   "metadata": {},
   "source": [
    "## Clear and Reformat Population Dataset"
   ]
  },
  {
   "cell_type": "code",
   "execution_count": 267,
   "metadata": {},
   "outputs": [],
   "source": [
    "import openpyxl\n",
    "import pandas as pd\n",
    "import numpy as np"
   ]
  },
  {
   "cell_type": "code",
   "execution_count": 268,
   "metadata": {},
   "outputs": [],
   "source": [
    "workbook = openpyxl.load_workbook('co-est2023-pop.xlsx')\n",
    "worksheet = workbook.active"
   ]
  },
  {
   "cell_type": "code",
   "execution_count": 269,
   "metadata": {},
   "outputs": [],
   "source": [
    "start_row = 6\n",
    "end_row = 3149\n",
    "columns = ['A', 'B', 'C', 'D', 'E', 'F']\n",
    "\n",
    "data = {col: [] for col in columns}\n",
    "\n",
    "for row in range(start_row, end_row + 1):\n",
    "    for col in columns:\n",
    "        cell_value = worksheet[col + str(row)].value\n",
    "        data[col].append(cell_value)\n",
    "\n",
    "df = pd.DataFrame(data)"
   ]
  },
  {
   "cell_type": "code",
   "execution_count": 270,
   "metadata": {},
   "outputs": [
    {
     "data": {
      "text/html": [
       "<div>\n",
       "<style scoped>\n",
       "    .dataframe tbody tr th:only-of-type {\n",
       "        vertical-align: middle;\n",
       "    }\n",
       "\n",
       "    .dataframe tbody tr th {\n",
       "        vertical-align: top;\n",
       "    }\n",
       "\n",
       "    .dataframe thead th {\n",
       "        text-align: right;\n",
       "    }\n",
       "</style>\n",
       "<table border=\"1\" class=\"dataframe\">\n",
       "  <thead>\n",
       "    <tr style=\"text-align: right;\">\n",
       "      <th></th>\n",
       "      <th>County</th>\n",
       "      <th>Estimates Base</th>\n",
       "      <th>2020</th>\n",
       "      <th>2021</th>\n",
       "      <th>2022</th>\n",
       "      <th>2023</th>\n",
       "    </tr>\n",
       "  </thead>\n",
       "  <tbody>\n",
       "    <tr>\n",
       "      <th>0</th>\n",
       "      <td>.Autauga County, Alabama</td>\n",
       "      <td>58809</td>\n",
       "      <td>58915</td>\n",
       "      <td>59203</td>\n",
       "      <td>59726</td>\n",
       "      <td>60342</td>\n",
       "    </tr>\n",
       "    <tr>\n",
       "      <th>1</th>\n",
       "      <td>.Baldwin County, Alabama</td>\n",
       "      <td>231768</td>\n",
       "      <td>233227</td>\n",
       "      <td>239439</td>\n",
       "      <td>246531</td>\n",
       "      <td>253507</td>\n",
       "    </tr>\n",
       "    <tr>\n",
       "      <th>2</th>\n",
       "      <td>.Barbour County, Alabama</td>\n",
       "      <td>25229</td>\n",
       "      <td>24969</td>\n",
       "      <td>24533</td>\n",
       "      <td>24700</td>\n",
       "      <td>24585</td>\n",
       "    </tr>\n",
       "    <tr>\n",
       "      <th>3</th>\n",
       "      <td>.Bibb County, Alabama</td>\n",
       "      <td>22301</td>\n",
       "      <td>22188</td>\n",
       "      <td>22359</td>\n",
       "      <td>21986</td>\n",
       "      <td>21868</td>\n",
       "    </tr>\n",
       "    <tr>\n",
       "      <th>4</th>\n",
       "      <td>.Blount County, Alabama</td>\n",
       "      <td>59130</td>\n",
       "      <td>59107</td>\n",
       "      <td>59079</td>\n",
       "      <td>59516</td>\n",
       "      <td>59816</td>\n",
       "    </tr>\n",
       "    <tr>\n",
       "      <th>...</th>\n",
       "      <td>...</td>\n",
       "      <td>...</td>\n",
       "      <td>...</td>\n",
       "      <td>...</td>\n",
       "      <td>...</td>\n",
       "      <td>...</td>\n",
       "    </tr>\n",
       "    <tr>\n",
       "      <th>3139</th>\n",
       "      <td>.Sweetwater County, Wyoming</td>\n",
       "      <td>42271</td>\n",
       "      <td>42197</td>\n",
       "      <td>41626</td>\n",
       "      <td>41374</td>\n",
       "      <td>41249</td>\n",
       "    </tr>\n",
       "    <tr>\n",
       "      <th>3140</th>\n",
       "      <td>.Teton County, Wyoming</td>\n",
       "      <td>23323</td>\n",
       "      <td>23379</td>\n",
       "      <td>23605</td>\n",
       "      <td>23297</td>\n",
       "      <td>23232</td>\n",
       "    </tr>\n",
       "    <tr>\n",
       "      <th>3141</th>\n",
       "      <td>.Uinta County, Wyoming</td>\n",
       "      <td>20445</td>\n",
       "      <td>20457</td>\n",
       "      <td>20681</td>\n",
       "      <td>20727</td>\n",
       "      <td>20745</td>\n",
       "    </tr>\n",
       "    <tr>\n",
       "      <th>3142</th>\n",
       "      <td>.Washakie County, Wyoming</td>\n",
       "      <td>7679</td>\n",
       "      <td>7657</td>\n",
       "      <td>7719</td>\n",
       "      <td>7724</td>\n",
       "      <td>7710</td>\n",
       "    </tr>\n",
       "    <tr>\n",
       "      <th>3143</th>\n",
       "      <td>.Weston County, Wyoming</td>\n",
       "      <td>6838</td>\n",
       "      <td>6816</td>\n",
       "      <td>6746</td>\n",
       "      <td>6858</td>\n",
       "      <td>6808</td>\n",
       "    </tr>\n",
       "  </tbody>\n",
       "</table>\n",
       "<p>3144 rows × 6 columns</p>\n",
       "</div>"
      ],
      "text/plain": [
       "                           County  Estimates Base    2020    2021    2022  \\\n",
       "0        .Autauga County, Alabama           58809   58915   59203   59726   \n",
       "1        .Baldwin County, Alabama          231768  233227  239439  246531   \n",
       "2        .Barbour County, Alabama           25229   24969   24533   24700   \n",
       "3           .Bibb County, Alabama           22301   22188   22359   21986   \n",
       "4         .Blount County, Alabama           59130   59107   59079   59516   \n",
       "...                           ...             ...     ...     ...     ...   \n",
       "3139  .Sweetwater County, Wyoming           42271   42197   41626   41374   \n",
       "3140       .Teton County, Wyoming           23323   23379   23605   23297   \n",
       "3141       .Uinta County, Wyoming           20445   20457   20681   20727   \n",
       "3142    .Washakie County, Wyoming            7679    7657    7719    7724   \n",
       "3143      .Weston County, Wyoming            6838    6816    6746    6858   \n",
       "\n",
       "        2023  \n",
       "0      60342  \n",
       "1     253507  \n",
       "2      24585  \n",
       "3      21868  \n",
       "4      59816  \n",
       "...      ...  \n",
       "3139   41249  \n",
       "3140   23232  \n",
       "3141   20745  \n",
       "3142    7710  \n",
       "3143    6808  \n",
       "\n",
       "[3144 rows x 6 columns]"
      ]
     },
     "execution_count": 270,
     "metadata": {},
     "output_type": "execute_result"
    }
   ],
   "source": [
    "new_column_names = ['County', 'Estimates Base', '2020', '2021', '2022', '2023']\n",
    "df.columns = new_column_names\n",
    "df"
   ]
  },
  {
   "cell_type": "code",
   "execution_count": 271,
   "metadata": {},
   "outputs": [],
   "source": [
    "### reformat and clear dataset\n",
    "county_names =  df['County'].apply(lambda x: (x.split(',')[0][1:]))\n",
    "state_names = df['County'].apply(lambda x: (x.split(',')[1]))\n",
    "county_state_names = df['County'].apply(lambda x: (x[1:]))\n",
    "df['County'] = county_names\n",
    "df['State'] = state_names\n",
    "df['County_State'] = county_state_names"
   ]
  },
  {
   "cell_type": "code",
   "execution_count": 272,
   "metadata": {},
   "outputs": [],
   "source": [
    "### add fips number to the existing dataset\n",
    "county_df = pd.read_csv('county_fips_master.csv', encoding='ISO-8859-1')\n",
    "state_df = pd.read_csv('state_fips_master.csv', encoding='ISO-8859-1')"
   ]
  },
  {
   "cell_type": "code",
   "execution_count": 273,
   "metadata": {},
   "outputs": [
    {
     "data": {
      "text/plain": [
       "72                                 Chugach Census Area\n",
       "73                            Copper River Census Area\n",
       "309                            Capitol Planning Region\n",
       "310                 Greater Bridgeport Planning Region\n",
       "311     Lower Connecticut River Valley Planning Region\n",
       "312                   Naugatuck Valley Planning Region\n",
       "313           Northeastern Connecticut Planning Region\n",
       "314                    Northwest Hills Planning Region\n",
       "315          South Central Connecticut Planning Region\n",
       "316           Southeastern Connecticut Planning Region\n",
       "317                Western Connecticut Planning Region\n",
       "1144                                    LaSalle Parish\n",
       "1804                                   Doña Ana County\n",
       "Name: County, dtype: object"
      ]
     },
     "execution_count": 273,
     "metadata": {},
     "output_type": "execute_result"
    }
   ],
   "source": [
    "### check non-machtcing cases\n",
    "# Create a boolean mask where False indicates the county is in county_df\n",
    "mask = ~df['County'].isin(county_df['county_name'])\n",
    "\n",
    "# Sum the non-matching entries (optional, if you want the count)\n",
    "non_matching_count = np.sum(mask)\n",
    "\n",
    "# Get the indices of non-matching entries\n",
    "non_matching_indices = df.index[mask]\n",
    "\n",
    "# If you need to see which are these counties\n",
    "non_matching_counties = df['County'][mask]\n",
    "non_matching_counties\n"
   ]
  },
  {
   "cell_type": "code",
   "execution_count": 274,
   "metadata": {},
   "outputs": [
    {
     "data": {
      "text/html": [
       "<div>\n",
       "<style scoped>\n",
       "    .dataframe tbody tr th:only-of-type {\n",
       "        vertical-align: middle;\n",
       "    }\n",
       "\n",
       "    .dataframe tbody tr th {\n",
       "        vertical-align: top;\n",
       "    }\n",
       "\n",
       "    .dataframe thead th {\n",
       "        text-align: right;\n",
       "    }\n",
       "</style>\n",
       "<table border=\"1\" class=\"dataframe\">\n",
       "  <thead>\n",
       "    <tr style=\"text-align: right;\">\n",
       "      <th></th>\n",
       "      <th>fips</th>\n",
       "      <th>county_name</th>\n",
       "      <th>state_abbr</th>\n",
       "      <th>state_name</th>\n",
       "      <th>long_name</th>\n",
       "      <th>sumlev</th>\n",
       "      <th>region</th>\n",
       "      <th>division</th>\n",
       "      <th>state</th>\n",
       "      <th>county</th>\n",
       "      <th>crosswalk</th>\n",
       "      <th>region_name</th>\n",
       "      <th>division_name</th>\n",
       "    </tr>\n",
       "  </thead>\n",
       "  <tbody>\n",
       "    <tr>\n",
       "      <th>290</th>\n",
       "      <td>8089</td>\n",
       "      <td>Otero County</td>\n",
       "      <td>CO</td>\n",
       "      <td>Colorado</td>\n",
       "      <td>Otero County CO</td>\n",
       "      <td>50.0</td>\n",
       "      <td>4.0</td>\n",
       "      <td>8.0</td>\n",
       "      <td>8.0</td>\n",
       "      <td>89.0</td>\n",
       "      <td>4-8-8-89</td>\n",
       "      <td>West</td>\n",
       "      <td>Mountain</td>\n",
       "    </tr>\n",
       "    <tr>\n",
       "      <th>1816</th>\n",
       "      <td>35035</td>\n",
       "      <td>Otero County</td>\n",
       "      <td>NM</td>\n",
       "      <td>New Mexico</td>\n",
       "      <td>Otero County NM</td>\n",
       "      <td>50.0</td>\n",
       "      <td>4.0</td>\n",
       "      <td>8.0</td>\n",
       "      <td>35.0</td>\n",
       "      <td>35.0</td>\n",
       "      <td>4-8-35-35</td>\n",
       "      <td>West</td>\n",
       "      <td>Mountain</td>\n",
       "    </tr>\n",
       "  </tbody>\n",
       "</table>\n",
       "</div>"
      ],
      "text/plain": [
       "       fips   county_name state_abbr  state_name        long_name  sumlev  \\\n",
       "290    8089  Otero County         CO    Colorado  Otero County CO    50.0   \n",
       "1816  35035  Otero County         NM  New Mexico  Otero County NM    50.0   \n",
       "\n",
       "      region  division  state  county  crosswalk region_name division_name  \n",
       "290      4.0       8.0    8.0    89.0   4-8-8-89        West      Mountain  \n",
       "1816     4.0       8.0   35.0    35.0  4-8-35-35        West      Mountain  "
      ]
     },
     "execution_count": 274,
     "metadata": {},
     "output_type": "execute_result"
    }
   ],
   "source": [
    "mask = county_df['county_name'].str.contains('otero', case=False)\n",
    "\n",
    "# Apply the mask to get the DataFrame rows where county names contain \"census\" (case-insensitive)\n",
    "counties_containing_census = county_df[mask]\n",
    "counties_containing_census"
   ]
  },
  {
   "cell_type": "code",
   "execution_count": 275,
   "metadata": {},
   "outputs": [
    {
     "name": "stderr",
     "output_type": "stream",
     "text": [
      "/tmp/ipykernel_32000/3089728510.py:2: UserWarning: Boolean Series key will be reindexed to match DataFrame index.\n",
      "  df_clear = df[~mask]\n"
     ]
    }
   ],
   "source": [
    "### discard non matching cases\n",
    "df_clear = df[~mask]\n",
    "df_clear.shape\n",
    "county_df['county_state_name'] = county_df['county_name'] + ', ' +  county_df['state_name']\n",
    "df_combine = pd.merge(df_clear, county_df[['county_state_name', 'fips']], left_on='County_State', right_on='county_state_name', how='left')\n",
    "df_combine.drop(columns='county_state_name', inplace=True)"
   ]
  },
  {
   "cell_type": "code",
   "execution_count": 276,
   "metadata": {},
   "outputs": [],
   "source": [
    "### process fips into five-digit strings\n",
    "df_combine['state_county_fips'] = df_combine['fips'].astype(str).apply(lambda x: '0' + x if len(x) < 5 else x)\n",
    "df_combine.drop(columns='fips', inplace=True)"
   ]
  },
  {
   "cell_type": "code",
   "execution_count": 277,
   "metadata": {},
   "outputs": [],
   "source": [
    "### drop estimates base\n",
    "df_combine.drop(columns='Estimates Base', inplace=True)"
   ]
  },
  {
   "cell_type": "code",
   "execution_count": 279,
   "metadata": {},
   "outputs": [],
   "source": [
    "df_combine.columns = ['county', '2020', '2021', '2022', '2023', 'state', 'county_state', 'id']"
   ]
  },
  {
   "cell_type": "code",
   "execution_count": 285,
   "metadata": {},
   "outputs": [
    {
     "data": {
      "text/plain": [
       "count    3143.000000\n",
       "mean       10.270128\n",
       "std         1.514318\n",
       "min         4.174387\n",
       "25%         9.287995\n",
       "50%        10.155180\n",
       "75%        11.127381\n",
       "max        16.117377\n",
       "Name: 2020, dtype: float64"
      ]
     },
     "execution_count": 285,
     "metadata": {},
     "output_type": "execute_result"
    }
   ],
   "source": [
    "### log population\n",
    "df_combine['2020'] = np.log(df_combine['2020'])\n",
    "df_combine['2021'] = np.log(df_combine['2021'])\n",
    "df_combine['2022'] = np.log(df_combine['2022'])\n",
    "df_combine['2023'] = np.log(df_combine['2023'])"
   ]
  },
  {
   "cell_type": "code",
   "execution_count": 281,
   "metadata": {},
   "outputs": [],
   "source": [
    "df_combine.to_csv('state_county_population.csv', index=False)"
   ]
  }
 ],
 "metadata": {
  "kernelspec": {
   "display_name": "Python 3",
   "language": "python",
   "name": "python3"
  },
  "language_info": {
   "codemirror_mode": {
    "name": "ipython",
    "version": 3
   },
   "file_extension": ".py",
   "mimetype": "text/x-python",
   "name": "python",
   "nbconvert_exporter": "python",
   "pygments_lexer": "ipython3",
   "version": "3.11.3"
  }
 },
 "nbformat": 4,
 "nbformat_minor": 2
}
