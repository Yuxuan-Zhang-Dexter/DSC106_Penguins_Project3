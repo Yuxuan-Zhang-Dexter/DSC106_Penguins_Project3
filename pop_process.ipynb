{
 "cells": [
  {
   "cell_type": "markdown",
   "metadata": {},
   "source": [
    "## Clear and Reformat Population Dataset"
   ]
  },
  {
   "cell_type": "code",
   "execution_count": 184,
   "metadata": {},
   "outputs": [],
   "source": [
    "import openpyxl\n",
    "import pandas as pd\n",
    "import numpy as np"
   ]
  },
  {
   "cell_type": "code",
   "execution_count": 185,
   "metadata": {},
   "outputs": [],
   "source": [
    "workbook = openpyxl.load_workbook('co-est2023-pop.xlsx')\n",
    "worksheet = workbook.active"
   ]
  },
  {
   "cell_type": "code",
   "execution_count": 186,
   "metadata": {},
   "outputs": [],
   "source": [
    "start_row = 6\n",
    "end_row = 3149\n",
    "columns = ['A', 'B', 'C', 'D', 'E', 'F']\n",
    "\n",
    "data = {col: [] for col in columns}\n",
    "\n",
    "for row in range(start_row, end_row + 1):\n",
    "    for col in columns:\n",
    "        cell_value = worksheet[col + str(row)].value\n",
    "        data[col].append(cell_value)\n",
    "\n",
    "df = pd.DataFrame(data)"
   ]
  },
  {
   "cell_type": "code",
   "execution_count": 187,
   "metadata": {},
   "outputs": [
    {
     "data": {
      "text/html": [
       "<div>\n",
       "<style scoped>\n",
       "    .dataframe tbody tr th:only-of-type {\n",
       "        vertical-align: middle;\n",
       "    }\n",
       "\n",
       "    .dataframe tbody tr th {\n",
       "        vertical-align: top;\n",
       "    }\n",
       "\n",
       "    .dataframe thead th {\n",
       "        text-align: right;\n",
       "    }\n",
       "</style>\n",
       "<table border=\"1\" class=\"dataframe\">\n",
       "  <thead>\n",
       "    <tr style=\"text-align: right;\">\n",
       "      <th></th>\n",
       "      <th>County</th>\n",
       "      <th>Estimates Base</th>\n",
       "      <th>2020</th>\n",
       "      <th>2021</th>\n",
       "      <th>2022</th>\n",
       "      <th>2023</th>\n",
       "    </tr>\n",
       "  </thead>\n",
       "  <tbody>\n",
       "    <tr>\n",
       "      <th>0</th>\n",
       "      <td>.Autauga County, Alabama</td>\n",
       "      <td>58809</td>\n",
       "      <td>58915</td>\n",
       "      <td>59203</td>\n",
       "      <td>59726</td>\n",
       "      <td>60342</td>\n",
       "    </tr>\n",
       "    <tr>\n",
       "      <th>1</th>\n",
       "      <td>.Baldwin County, Alabama</td>\n",
       "      <td>231768</td>\n",
       "      <td>233227</td>\n",
       "      <td>239439</td>\n",
       "      <td>246531</td>\n",
       "      <td>253507</td>\n",
       "    </tr>\n",
       "    <tr>\n",
       "      <th>2</th>\n",
       "      <td>.Barbour County, Alabama</td>\n",
       "      <td>25229</td>\n",
       "      <td>24969</td>\n",
       "      <td>24533</td>\n",
       "      <td>24700</td>\n",
       "      <td>24585</td>\n",
       "    </tr>\n",
       "    <tr>\n",
       "      <th>3</th>\n",
       "      <td>.Bibb County, Alabama</td>\n",
       "      <td>22301</td>\n",
       "      <td>22188</td>\n",
       "      <td>22359</td>\n",
       "      <td>21986</td>\n",
       "      <td>21868</td>\n",
       "    </tr>\n",
       "    <tr>\n",
       "      <th>4</th>\n",
       "      <td>.Blount County, Alabama</td>\n",
       "      <td>59130</td>\n",
       "      <td>59107</td>\n",
       "      <td>59079</td>\n",
       "      <td>59516</td>\n",
       "      <td>59816</td>\n",
       "    </tr>\n",
       "    <tr>\n",
       "      <th>...</th>\n",
       "      <td>...</td>\n",
       "      <td>...</td>\n",
       "      <td>...</td>\n",
       "      <td>...</td>\n",
       "      <td>...</td>\n",
       "      <td>...</td>\n",
       "    </tr>\n",
       "    <tr>\n",
       "      <th>3139</th>\n",
       "      <td>.Sweetwater County, Wyoming</td>\n",
       "      <td>42271</td>\n",
       "      <td>42197</td>\n",
       "      <td>41626</td>\n",
       "      <td>41374</td>\n",
       "      <td>41249</td>\n",
       "    </tr>\n",
       "    <tr>\n",
       "      <th>3140</th>\n",
       "      <td>.Teton County, Wyoming</td>\n",
       "      <td>23323</td>\n",
       "      <td>23379</td>\n",
       "      <td>23605</td>\n",
       "      <td>23297</td>\n",
       "      <td>23232</td>\n",
       "    </tr>\n",
       "    <tr>\n",
       "      <th>3141</th>\n",
       "      <td>.Uinta County, Wyoming</td>\n",
       "      <td>20445</td>\n",
       "      <td>20457</td>\n",
       "      <td>20681</td>\n",
       "      <td>20727</td>\n",
       "      <td>20745</td>\n",
       "    </tr>\n",
       "    <tr>\n",
       "      <th>3142</th>\n",
       "      <td>.Washakie County, Wyoming</td>\n",
       "      <td>7679</td>\n",
       "      <td>7657</td>\n",
       "      <td>7719</td>\n",
       "      <td>7724</td>\n",
       "      <td>7710</td>\n",
       "    </tr>\n",
       "    <tr>\n",
       "      <th>3143</th>\n",
       "      <td>.Weston County, Wyoming</td>\n",
       "      <td>6838</td>\n",
       "      <td>6816</td>\n",
       "      <td>6746</td>\n",
       "      <td>6858</td>\n",
       "      <td>6808</td>\n",
       "    </tr>\n",
       "  </tbody>\n",
       "</table>\n",
       "<p>3144 rows × 6 columns</p>\n",
       "</div>"
      ],
      "text/plain": [
       "                           County  Estimates Base    2020    2021    2022  \\\n",
       "0        .Autauga County, Alabama           58809   58915   59203   59726   \n",
       "1        .Baldwin County, Alabama          231768  233227  239439  246531   \n",
       "2        .Barbour County, Alabama           25229   24969   24533   24700   \n",
       "3           .Bibb County, Alabama           22301   22188   22359   21986   \n",
       "4         .Blount County, Alabama           59130   59107   59079   59516   \n",
       "...                           ...             ...     ...     ...     ...   \n",
       "3139  .Sweetwater County, Wyoming           42271   42197   41626   41374   \n",
       "3140       .Teton County, Wyoming           23323   23379   23605   23297   \n",
       "3141       .Uinta County, Wyoming           20445   20457   20681   20727   \n",
       "3142    .Washakie County, Wyoming            7679    7657    7719    7724   \n",
       "3143      .Weston County, Wyoming            6838    6816    6746    6858   \n",
       "\n",
       "        2023  \n",
       "0      60342  \n",
       "1     253507  \n",
       "2      24585  \n",
       "3      21868  \n",
       "4      59816  \n",
       "...      ...  \n",
       "3139   41249  \n",
       "3140   23232  \n",
       "3141   20745  \n",
       "3142    7710  \n",
       "3143    6808  \n",
       "\n",
       "[3144 rows x 6 columns]"
      ]
     },
     "execution_count": 187,
     "metadata": {},
     "output_type": "execute_result"
    }
   ],
   "source": [
    "new_column_names = ['County', 'Estimates Base', '2020', '2021', '2022', '2023']\n",
    "df.columns = new_column_names\n",
    "df"
   ]
  },
  {
   "cell_type": "code",
   "execution_count": 188,
   "metadata": {},
   "outputs": [],
   "source": [
    "### reformat and clear dataset\n",
    "county_names =  df['County'].apply(lambda x: (x.split(',')[0][1:]))\n",
    "state_names = df['County'].apply(lambda x: (x.split(',')[1]))\n",
    "county_state_names = df['County'].apply(lambda x: (x[1:]))\n",
    "df['County'] = county_names\n",
    "df['State'] = state_names\n",
    "df['County_State'] = county_state_names"
   ]
  },
  {
   "cell_type": "code",
   "execution_count": 189,
   "metadata": {},
   "outputs": [],
   "source": [
    "### add fips number to the existing dataset\n",
    "county_df = pd.read_csv('county_fips_master.csv', encoding='ISO-8859-1')\n",
    "state_df = pd.read_csv('state_fips_master.csv', encoding='ISO-8859-1')"
   ]
  },
  {
   "cell_type": "code",
   "execution_count": 190,
   "metadata": {},
   "outputs": [
    {
     "data": {
      "text/plain": [
       "(3144, 8)"
      ]
     },
     "execution_count": 190,
     "metadata": {},
     "output_type": "execute_result"
    }
   ],
   "source": [
    "### check non-machtcing cases\n",
    "# Create a boolean mask where False indicates the county is in county_df\n",
    "mask = ~df['County'].isin(county_df['county_name'])\n",
    "\n",
    "# Sum the non-matching entries (optional, if you want the count)\n",
    "non_matching_count = np.sum(mask)\n",
    "\n",
    "# Get the indices of non-matching entries\n",
    "non_matching_indices = df.index[mask]\n",
    "\n",
    "# If you need to see which are these counties\n",
    "non_matching_counties = df['County'][mask]\n",
    "non_matching_counties\n",
    "\n",
    "df.shape"
   ]
  },
  {
   "cell_type": "code",
   "execution_count": 208,
   "metadata": {},
   "outputs": [],
   "source": [
    "### discard non matching cases\n",
    "df_clear = df[~mask]\n",
    "df_clear.shape\n",
    "county_df['county_state_name'] = county_df['county_name'] + ', ' +  county_df['state_name']\n",
    "df_combine = pd.merge(df_clear, county_df[['county_state_name', 'fips']], left_on='County_State', right_on='county_state_name', how='left')\n",
    "df_combine.drop(columns='county_state_name', inplace=True)"
   ]
  },
  {
   "cell_type": "code",
   "execution_count": 223,
   "metadata": {},
   "outputs": [],
   "source": [
    "df_combine['state_county_fips'] = df_combine['fips'].astype(str).apply(lambda x: '0' + x if len(x) < 5 else x)\n",
    "df_combine.drop(columns='state_county_flips', inplace=True)"
   ]
  }
 ],
 "metadata": {
  "kernelspec": {
   "display_name": "Python 3",
   "language": "python",
   "name": "python3"
  },
  "language_info": {
   "codemirror_mode": {
    "name": "ipython",
    "version": 3
   },
   "file_extension": ".py",
   "mimetype": "text/x-python",
   "name": "python",
   "nbconvert_exporter": "python",
   "pygments_lexer": "ipython3",
   "version": "3.11.3"
  }
 },
 "nbformat": 4,
 "nbformat_minor": 2
}
